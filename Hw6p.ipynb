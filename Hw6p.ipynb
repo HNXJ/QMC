{
  "nbformat": 4,
  "nbformat_minor": 0,
  "metadata": {
    "colab": {
      "name": "Hw6p.ipynb",
      "provenance": [],
      "collapsed_sections": [],
      "authorship_tag": "ABX9TyMT5huKWAHUw1nrlVh9Y2PU",
      "include_colab_link": true
    },
    "kernelspec": {
      "name": "python3",
      "display_name": "Python 3"
    }
  },
  "cells": [
    {
      "cell_type": "markdown",
      "metadata": {
        "id": "view-in-github",
        "colab_type": "text"
      },
      "source": [
        "<a href=\"https://colab.research.google.com/github/HNXJ/QMC/blob/master/Hw6p.ipynb\" target=\"_parent\"><img src=\"https://colab.research.google.com/assets/colab-badge.svg\" alt=\"Open In Colab\"/></a>"
      ]
    },
    {
      "cell_type": "code",
      "metadata": {
        "id": "eLF0Kf3IvyDm",
        "colab_type": "code",
        "colab": {}
      },
      "source": [
        ""
      ],
      "execution_count": 0,
      "outputs": []
    },
    {
      "cell_type": "markdown",
      "metadata": {
        "id": "k0R9u2Xwv6I5",
        "colab_type": "text"
      },
      "source": [
        "# Assignment No.6 : Reinforcement Learning\n",
        "\n",
        "## Advanced neuroscience - Dr.Ali Ghazizade\n",
        "\n",
        "![alt text](https://encrypted-tbn0.gstatic.com/images?q=tbn%3AANd9GcREFhPnPZNywQMid6Jn2_TvANPzpFzPZZaAouZkkDOWgp65WReg&usqp=CAU)\n",
        "\n",
        "> Indented block\n",
        "\n",
        "Hamed Nejat - 96102578\n",
        "\n",
        "________________\n",
        "\n",
        "# Learning the Water Maze\n",
        "\n",
        "As an example of generalized reinforcement learning, we consider the water maze task. This is a navigation problem in which rats are placed in a large pool of milky water and have to swim around until they find a small platform that is submerged slightly below the surface of the water. The opaqueness of the water prevents them from seeing the platform directly, and their natural aversion to water (although they are competent swimmers) motivates them to find the platform. After several trials, the rats learn the location of the platform and swim directly to it when placed in the water. We are going to simulate a simple model of navigation problem. \n"
      ]
    },
    {
      "cell_type": "code",
      "metadata": {
        "id": "fLyI5OYAv77w",
        "colab_type": "code",
        "colab": {}
      },
      "source": [
        ""
      ],
      "execution_count": 0,
      "outputs": []
    }
  ]
}